{
 "cells": [
  {
   "cell_type": "markdown",
   "id": "c2f3ec74-1fd1-451d-9be9-72edcd2cb09e",
   "metadata": {},
   "source": [
    "## Cycle of Deep Learning Project \n",
    "1. Understanding The Problem\n",
    "2. Data Collection\n",
    "3. Data Analysis\n",
    "4. Pre-processing Text Data\n",
    "5. Build The Model"
   ]
  },
  {
   "cell_type": "markdown",
   "id": "b49b8e41-d6dd-4fa2-b0a8-1adbc1989806",
   "metadata": {},
   "source": [
    "## 1. Understanding The Problem"
   ]
  },
  {
   "cell_type": "markdown",
   "id": "d094789a-c9ad-4ae2-9086-8623aef7e487",
   "metadata": {},
   "source": [
    "To accurately classify online reviews as positive or negative, I developed a deep learning model (LSTM) capable of effectively capturing the sentiment expressed within text data. The model was designed to learn intricate patterns in language, enabling it to distinguish between reviews conveying satisfaction and those expressing dissatisfaction. By leveraging LSTM architectures, the model excels at processing and understanding the semantic and syntactic components of text,To Predict Positive or Negative Review in Accurate Way"
   ]
  },
  {
   "cell_type": "markdown",
   "id": "0bc7197a-0cfc-42f5-9856-d56ea96541f6",
   "metadata": {},
   "source": [
    "## Importing Dependencies "
   ]
  },
  {
   "cell_type": "code",
   "execution_count": 1,
   "id": "e1f2d8b4-ad53-4f3d-a6f1-0fd7266cd14c",
   "metadata": {},
   "outputs": [
    {
     "name": "stderr",
     "output_type": "stream",
     "text": [
      "[nltk_data] Error loading punct: Package 'punct' not found in index\n",
      "[nltk_data] Downloading package stopwords to C:\\Users\\Kimo\n",
      "[nltk_data]     Store\\AppData\\Roaming\\nltk_data...\n",
      "[nltk_data]   Package stopwords is already up-to-date!\n"
     ]
    }
   ],
   "source": [
    "import pandas as pd \n",
    "import numpy as np \n",
    "import matplotlib.pyplot as plt\n",
    "import seaborn as sns\n",
    "import nltk\n",
    "nltk.download('punct')\n",
    "nltk.download('stopwords') ## in sentiment anaylsis we can not remove stop words like (not )\n",
    "import warnings\n",
    "warnings.filterwarnings(\"ignore\")"
   ]
  },
  {
   "cell_type": "markdown",
   "id": "18e9235d-8f2f-4016-aed1-f93273b68a9f",
   "metadata": {},
   "source": [
    "## Data Collection"
   ]
  },
  {
   "cell_type": "code",
   "execution_count": 2,
   "id": "65198ccb-9d5f-402a-88e9-c83b7fb69b2c",
   "metadata": {},
   "outputs": [
    {
     "data": {
      "text/html": [
       "<div>\n",
       "<style scoped>\n",
       "    .dataframe tbody tr th:only-of-type {\n",
       "        vertical-align: middle;\n",
       "    }\n",
       "\n",
       "    .dataframe tbody tr th {\n",
       "        vertical-align: top;\n",
       "    }\n",
       "\n",
       "    .dataframe thead th {\n",
       "        text-align: right;\n",
       "    }\n",
       "</style>\n",
       "<table border=\"1\" class=\"dataframe\">\n",
       "  <thead>\n",
       "    <tr style=\"text-align: right;\">\n",
       "      <th></th>\n",
       "      <th>review</th>\n",
       "      <th>sentiment</th>\n",
       "    </tr>\n",
       "  </thead>\n",
       "  <tbody>\n",
       "    <tr>\n",
       "      <th>0</th>\n",
       "      <td>One of the other reviewers has mentioned that ...</td>\n",
       "      <td>positive</td>\n",
       "    </tr>\n",
       "    <tr>\n",
       "      <th>1</th>\n",
       "      <td>A wonderful little production. &lt;br /&gt;&lt;br /&gt;The...</td>\n",
       "      <td>positive</td>\n",
       "    </tr>\n",
       "    <tr>\n",
       "      <th>2</th>\n",
       "      <td>I thought this was a wonderful way to spend ti...</td>\n",
       "      <td>positive</td>\n",
       "    </tr>\n",
       "    <tr>\n",
       "      <th>3</th>\n",
       "      <td>Basically there's a family where a little boy ...</td>\n",
       "      <td>negative</td>\n",
       "    </tr>\n",
       "    <tr>\n",
       "      <th>4</th>\n",
       "      <td>Petter Mattei's \"Love in the Time of Money\" is...</td>\n",
       "      <td>positive</td>\n",
       "    </tr>\n",
       "  </tbody>\n",
       "</table>\n",
       "</div>"
      ],
      "text/plain": [
       "                                              review sentiment\n",
       "0  One of the other reviewers has mentioned that ...  positive\n",
       "1  A wonderful little production. <br /><br />The...  positive\n",
       "2  I thought this was a wonderful way to spend ti...  positive\n",
       "3  Basically there's a family where a little boy ...  negative\n",
       "4  Petter Mattei's \"Love in the Time of Money\" is...  positive"
      ]
     },
     "execution_count": 2,
     "metadata": {},
     "output_type": "execute_result"
    }
   ],
   "source": [
    "## loading the data \n",
    "data = pd.read_csv(\"IMDB Dataset.csv\")\n",
    "data.head()"
   ]
  },
  {
   "cell_type": "code",
   "execution_count": 3,
   "id": "ca50e413-cddf-45f7-9057-12fd537e0007",
   "metadata": {},
   "outputs": [
    {
     "data": {
      "text/plain": [
       "(50000, 2)"
      ]
     },
     "execution_count": 3,
     "metadata": {},
     "output_type": "execute_result"
    }
   ],
   "source": [
    "## rows and columns \n",
    "data.shape"
   ]
  },
  {
   "cell_type": "markdown",
   "id": "ac3df254-bf4d-4c48-abfe-43ccc3b225c9",
   "metadata": {},
   "source": [
    "## 3. Data Analysis\n",
    "1. Imbalance Data\n",
    "2. Missing values\n",
    "3. Duplicated Values\n",
    "4. Number of Characters For Each Labels\n",
    "5. Number of Words For Each Labels\n",
    "6. Number of Sentence For Each Labels "
   ]
  },
  {
   "cell_type": "markdown",
   "id": "825792b3-2e6c-490b-9c72-3755816d7b74",
   "metadata": {},
   "source": [
    "### 1. Imbalance Data\n"
   ]
  },
  {
   "cell_type": "code",
   "execution_count": 4,
   "id": "bd1575ea-baca-4bfc-903e-f1a382a8fbac",
   "metadata": {},
   "outputs": [
    {
     "data": {
      "text/plain": [
       "Text(0.5, 1.0, 'Distribtution in dataset')"
      ]
     },
     "execution_count": 4,
     "metadata": {},
     "output_type": "execute_result"
    },
    {
     "data": {
      "image/png": "[encoded data removed]",
      "text/plain": [
       "<Figure size 1600x500 with 1 Axes>"
      ]
     },
     "metadata": {},
     "output_type": "display_data"
    }
   ],
   "source": [
    "plt.figure(figsize =(16,5))\n",
    "plt.subplot(121)\n",
    "plt.pie(data['sentiment'].value_counts(),labels=['posiive' , 'Negative'] , autopct=\"%0.2f\")\n",
    "plt.title('Distribtution in dataset')\n"
   ]
  },
  {
   "cell_type": "markdown",
   "id": "c662ab9e-124a-4613-b9a9-892e606e5558",
   "metadata": {},
   "source": [
    "### 2. Missing values"
   ]
  },
  {
   "cell_type": "code",
   "execution_count": 5,
   "id": "f94b4918-2f67-47dc-b909-307e9e721729",
   "metadata": {},
   "outputs": [
    {
     "name": "stdout",
     "output_type": "stream",
     "text": [
      "nan value in data is \n",
      "review       0\n",
      "sentiment    0\n",
      "dtype: int64\n"
     ]
    }
   ],
   "source": [
    "print(f\"nan value in data is \\n{data.isnull().sum()}\")"
   ]
  },
  {
   "cell_type": "markdown",
   "id": "6bf73b57-f14a-47ed-b3bf-ff4822675a09",
   "metadata": {},
   "source": [
    "\n",
    "#### There is no nan values "
   ]
  },
  {
   "cell_type": "markdown",
   "id": "45349950-af70-4ac7-a477-f0f9ff0630f7",
   "metadata": {},
   "source": [
    "### 3. Duplicated Values"
   ]
  },
  {
   "cell_type": "code",
   "execution_count": 6,
   "id": "9d3372fd-ba14-4cb3-b3fe-dd88c35c87c5",
   "metadata": {},
   "outputs": [
    {
     "name": "stdout",
     "output_type": "stream",
     "text": [
      "duplicated value in data is \n",
      "418\n"
     ]
    }
   ],
   "source": [
    "# train\n",
    "print(f\"duplicated value in data is \\n{data.duplicated().sum()}\")"
   ]
  },
  {
   "cell_type": "code",
   "execution_count": 7,
   "id": "6acf5508-1914-4c1a-b50b-d347d6c44bae",
   "metadata": {},
   "outputs": [],
   "source": [
    "## Drop duplicated values \n",
    "data.drop_duplicates(inplace = True , ignore_index=True )"
   ]
  },
  {
   "cell_type": "markdown",
   "id": "09e77ca8-f0a8-4ada-8c2b-be1030bfe100",
   "metadata": {},
   "source": [
    "### 4. Number of Characters For Each Labels\n"
   ]
  },
  {
   "cell_type": "code",
   "execution_count": 8,
   "id": "45f192aa-f92b-47d1-8ed7-ad8fe62f2b1a",
   "metadata": {},
   "outputs": [],
   "source": [
    "data['Num_Char'] = data['review'].apply(len)"
   ]
  },
  {
   "cell_type": "code",
   "execution_count": 9,
   "id": "b6d90581-edd0-4a2f-a044-9bcd8ff037ea",
   "metadata": {},
   "outputs": [],
   "source": [
    "data['Num_word'] = data['review'].apply(lambda x : len(nltk.word_tokenize(x)))"
   ]
  },
  {
   "cell_type": "code",
   "execution_count": 10,
   "id": "67e61171-8b6c-4f7f-ba11-5ee48e537f4b",
   "metadata": {},
   "outputs": [],
   "source": [
    "data['Num_sent'] = data['review'].apply(lambda x : len(nltk.sent_tokenize(x)))"
   ]
  },
  {
   "cell_type": "code",
   "execution_count": 11,
   "id": "083e82ce-686a-4a89-ae0c-388824fa9027",
   "metadata": {},
   "outputs": [
    {
     "data": {
      "text/html": [
       "<div>\n",
       "<style scoped>\n",
       "    .dataframe tbody tr th:only-of-type {\n",
       "        vertical-align: middle;\n",
       "    }\n",
       "\n",
       "    .dataframe tbody tr th {\n",
       "        vertical-align: top;\n",
       "    }\n",
       "\n",
       "    .dataframe thead th {\n",
       "        text-align: right;\n",
       "    }\n",
       "</style>\n",
       "<table border=\"1\" class=\"dataframe\">\n",
       "  <thead>\n",
       "    <tr style=\"text-align: right;\">\n",
       "      <th></th>\n",
       "      <th>review</th>\n",
       "      <th>sentiment</th>\n",
       "      <th>Num_Char</th>\n",
       "      <th>Num_word</th>\n",
       "      <th>Num_sent</th>\n",
       "    </tr>\n",
       "  </thead>\n",
       "  <tbody>\n",
       "    <tr>\n",
       "      <th>0</th>\n",
       "      <td>One of the other reviewers has mentioned that ...</td>\n",
       "      <td>positive</td>\n",
       "      <td>1761</td>\n",
       "      <td>380</td>\n",
       "      <td>10</td>\n",
       "    </tr>\n",
       "    <tr>\n",
       "      <th>1</th>\n",
       "      <td>A wonderful little production. &lt;br /&gt;&lt;br /&gt;The...</td>\n",
       "      <td>positive</td>\n",
       "      <td>998</td>\n",
       "      <td>201</td>\n",
       "      <td>7</td>\n",
       "    </tr>\n",
       "    <tr>\n",
       "      <th>2</th>\n",
       "      <td>I thought this was a wonderful way to spend ti...</td>\n",
       "      <td>positive</td>\n",
       "      <td>926</td>\n",
       "      <td>205</td>\n",
       "      <td>4</td>\n",
       "    </tr>\n",
       "    <tr>\n",
       "      <th>3</th>\n",
       "      <td>Basically there's a family where a little boy ...</td>\n",
       "      <td>negative</td>\n",
       "      <td>748</td>\n",
       "      <td>175</td>\n",
       "      <td>6</td>\n",
       "    </tr>\n",
       "    <tr>\n",
       "      <th>4</th>\n",
       "      <td>Petter Mattei's \"Love in the Time of Money\" is...</td>\n",
       "      <td>positive</td>\n",
       "      <td>1317</td>\n",
       "      <td>283</td>\n",
       "      <td>9</td>\n",
       "    </tr>\n",
       "    <tr>\n",
       "      <th>5</th>\n",
       "      <td>Probably my all-time favorite movie, a story o...</td>\n",
       "      <td>positive</td>\n",
       "      <td>656</td>\n",
       "      <td>145</td>\n",
       "      <td>6</td>\n",
       "    </tr>\n",
       "    <tr>\n",
       "      <th>6</th>\n",
       "      <td>I sure would like to see a resurrection of a u...</td>\n",
       "      <td>positive</td>\n",
       "      <td>726</td>\n",
       "      <td>158</td>\n",
       "      <td>1</td>\n",
       "    </tr>\n",
       "    <tr>\n",
       "      <th>7</th>\n",
       "      <td>This show was an amazing, fresh &amp; innovative i...</td>\n",
       "      <td>negative</td>\n",
       "      <td>934</td>\n",
       "      <td>203</td>\n",
       "      <td>9</td>\n",
       "    </tr>\n",
       "    <tr>\n",
       "      <th>8</th>\n",
       "      <td>Encouraged by the positive comments about this...</td>\n",
       "      <td>negative</td>\n",
       "      <td>681</td>\n",
       "      <td>154</td>\n",
       "      <td>7</td>\n",
       "    </tr>\n",
       "    <tr>\n",
       "      <th>9</th>\n",
       "      <td>If you like original gut wrenching laughter yo...</td>\n",
       "      <td>positive</td>\n",
       "      <td>176</td>\n",
       "      <td>45</td>\n",
       "      <td>3</td>\n",
       "    </tr>\n",
       "  </tbody>\n",
       "</table>\n",
       "</div>"
      ],
      "text/plain": [
       "                                              review sentiment  Num_Char  \\\n",
       "0  One of the other reviewers has mentioned that ...  positive      1761   \n",
       "1  A wonderful little production. <br /><br />The...  positive       998   \n",
       "2  I thought this was a wonderful way to spend ti...  positive       926   \n",
       "3  Basically there's a family where a little boy ...  negative       748   \n",
       "4  Petter Mattei's \"Love in the Time of Money\" is...  positive      1317   \n",
       "5  Probably my all-time favorite movie, a story o...  positive       656   \n",
       "6  I sure would like to see a resurrection of a u...  positive       726   \n",
       "7  This show was an amazing, fresh & innovative i...  negative       934   \n",
       "8  Encouraged by the positive comments about this...  negative       681   \n",
       "9  If you like original gut wrenching laughter yo...  positive       176   \n",
       "\n",
       "   Num_word  Num_sent  \n",
       "0       380        10  \n",
       "1       201         7  \n",
       "2       205         4  \n",
       "3       175         6  \n",
       "4       283         9  \n",
       "5       145         6  \n",
       "6       158         1  \n",
       "7       203         9  \n",
       "8       154         7  \n",
       "9        45         3  "
      ]
     },
     "execution_count": 11,
     "metadata": {},
     "output_type": "execute_result"
    }
   ],
   "source": [
    "data.head(10)"
   ]
  },
  {
   "cell_type": "code",
   "execution_count": 12,
   "id": "a5e2c77b-2419-4fac-bfff-211b25bf9f9b",
   "metadata": {},
   "outputs": [],
   "source": [
    "## Create data for positive and negative\n",
    "positive = data[data['sentiment'] =='positive']\n",
    "\n",
    "negative = data[data['sentiment'] =='negative']"
   ]
  },
  {
   "cell_type": "code",
   "execution_count": 13,
   "id": "573b3fa4-76cf-4fa3-a923-c74e98c5d993",
   "metadata": {},
   "outputs": [
    {
     "data": {
      "image/png": "[encoded data removed]",
      "text/plain": [
       "<Figure size 1600x500 with 1 Axes>"
      ]
     },
     "metadata": {},
     "output_type": "display_data"
    }
   ],
   "source": [
    "## Showing the differance between negative and positive data regarding the num_char \n",
    "plt.figure(figsize=(16,5))\n",
    "sns.histplot(positive['Num_Char'] , bins=50 , color='blue')\n",
    "sns.histplot(negative['Num_Char'] , bins=50 ,color='red')\n",
    "plt.title('Comapring Number Of Characters negative Vs positive')\n",
    "plt.show()\n"
   ]
  },
  {
   "cell_type": "code",
   "execution_count": 14,
   "id": "b2d26f1f-31ae-433b-96e1-d36625f2775c",
   "metadata": {},
   "outputs": [
    {
     "data": {
      "image/png": "[encoded data removed]",
      "text/plain": [
       "<Figure size 1600x500 with 1 Axes>"
      ]
     },
     "metadata": {},
     "output_type": "display_data"
    }
   ],
   "source": [
    "## Showing the differance between negative and positive data regarding the num_word \n",
    "plt.figure(figsize=(16,5))\n",
    "sns.histplot(positive['Num_word'] , bins=50 , color='blue')\n",
    "sns.histplot(negative['Num_word'] , bins=50 ,color='red')\n",
    "plt.title('Comapring Number Of Words negative Vs positive')\n",
    "plt.show()\n"
   ]
  },
  {
   "cell_type": "code",
   "execution_count": 15,
   "id": "010802cb-c61d-41f0-9192-83a868462ed1",
   "metadata": {},
   "outputs": [
    {
     "data": {
      "image/png": "[encoded data removed]",
      "text/plain": [
       "<Figure size 1600x500 with 1 Axes>"
      ]
     },
     "metadata": {},
     "output_type": "display_data"
    }
   ],
   "source": [
    "## Showing the differance between negative and positive data regarding the num_sentence \n",
    "plt.figure(figsize=(16,5))\n",
    "sns.histplot(positive['Num_sent'] , bins=50 , color='blue')\n",
    "sns.histplot(negative['Num_sent'] , bins=50 ,color='red')\n",
    "plt.title('Comapring Number Of Sentence negative Vs positive')\n",
    "plt.show()\n"
   ]
  },
  {
   "cell_type": "markdown",
   "id": "102ba61b-13b9-4f40-85c7-4f64cbf16947",
   "metadata": {},
   "source": [
    "### Conclusion\n",
    "#### Positive Reviews have More Number of Charaters Words and Sentence Than Negative "
   ]
  },
  {
   "cell_type": "markdown",
   "id": "83aa6d57-52f0-4457-a83a-32bdbf621b76",
   "metadata": {},
   "source": [
    "## 4. Pre-processing Text Data\n",
    "1. positive ==1\n",
    "2. Negative == 0"
   ]
  },
  {
   "cell_type": "code",
   "execution_count": 16,
   "id": "1689f108-cf1c-41e8-a6e9-e07ceb0bf32e",
   "metadata": {},
   "outputs": [
    {
     "name": "stdout",
     "output_type": "stream",
     "text": [
      "WARNING:tensorflow:From C:\\Users\\Kimo Store\\anaconda3\\Lib\\site-packages\\keras\\src\\losses.py:2976: The name tf.losses.sparse_softmax_cross_entropy is deprecated. Please use tf.compat.v1.losses.sparse_softmax_cross_entropy instead.\n",
      "\n"
     ]
    }
   ],
   "source": [
    "import tensorflow as tf\n",
    "from tensorflow import keras\n",
    "from tensorflow.keras.models import Sequential ## to create neural network\n",
    "from tensorflow.keras.layers import Dense # to create layers and units\n",
    "from tensorflow.keras.layers import  Embedding # to convert text to vector\n",
    "from tensorflow.keras.layers import  LSTM ## prevent vanshing gradient problem\n",
    "from tensorflow.keras.preprocessing.text import one_hot ## assigns number for each unique word vocablary size\n",
    "from tensorflow.keras.preprocessing.sequence import pad_sequences # to make all sentens same length\n",
    "from tensorflow.keras.preprocessing.text import Tokenizer\n",
    "import gensim"
   ]
  },
  {
   "cell_type": "code",
   "execution_count": 17,
   "id": "05bdbfe4-f39a-4ebd-a0e1-d0dd63f84fa9",
   "metadata": {},
   "outputs": [],
   "source": [
    "## convert labels to numbers \n",
    "data['sentiment'] = data['sentiment'].apply(lambda x : 1 if x == 'positive' else 0)"
   ]
  },
  {
   "cell_type": "code",
   "execution_count": 18,
   "id": "86c2ef89-2a64-4461-8fb3-0452e2ac6017",
   "metadata": {},
   "outputs": [
    {
     "data": {
      "text/html": [
       "<div>\n",
       "<style scoped>\n",
       "    .dataframe tbody tr th:only-of-type {\n",
       "        vertical-align: middle;\n",
       "    }\n",
       "\n",
       "    .dataframe tbody tr th {\n",
       "        vertical-align: top;\n",
       "    }\n",
       "\n",
       "    .dataframe thead th {\n",
       "        text-align: right;\n",
       "    }\n",
       "</style>\n",
       "<table border=\"1\" class=\"dataframe\">\n",
       "  <thead>\n",
       "    <tr style=\"text-align: right;\">\n",
       "      <th></th>\n",
       "      <th>review</th>\n",
       "      <th>sentiment</th>\n",
       "      <th>Num_Char</th>\n",
       "      <th>Num_word</th>\n",
       "      <th>Num_sent</th>\n",
       "    </tr>\n",
       "  </thead>\n",
       "  <tbody>\n",
       "    <tr>\n",
       "      <th>0</th>\n",
       "      <td>One of the other reviewers has mentioned that ...</td>\n",
       "      <td>1</td>\n",
       "      <td>1761</td>\n",
       "      <td>380</td>\n",
       "      <td>10</td>\n",
       "    </tr>\n",
       "    <tr>\n",
       "      <th>1</th>\n",
       "      <td>A wonderful little production. &lt;br /&gt;&lt;br /&gt;The...</td>\n",
       "      <td>1</td>\n",
       "      <td>998</td>\n",
       "      <td>201</td>\n",
       "      <td>7</td>\n",
       "    </tr>\n",
       "    <tr>\n",
       "      <th>2</th>\n",
       "      <td>I thought this was a wonderful way to spend ti...</td>\n",
       "      <td>1</td>\n",
       "      <td>926</td>\n",
       "      <td>205</td>\n",
       "      <td>4</td>\n",
       "    </tr>\n",
       "    <tr>\n",
       "      <th>3</th>\n",
       "      <td>Basically there's a family where a little boy ...</td>\n",
       "      <td>0</td>\n",
       "      <td>748</td>\n",
       "      <td>175</td>\n",
       "      <td>6</td>\n",
       "    </tr>\n",
       "    <tr>\n",
       "      <th>4</th>\n",
       "      <td>Petter Mattei's \"Love in the Time of Money\" is...</td>\n",
       "      <td>1</td>\n",
       "      <td>1317</td>\n",
       "      <td>283</td>\n",
       "      <td>9</td>\n",
       "    </tr>\n",
       "  </tbody>\n",
       "</table>\n",
       "</div>"
      ],
      "text/plain": [
       "                                              review  sentiment  Num_Char  \\\n",
       "0  One of the other reviewers has mentioned that ...          1      1761   \n",
       "1  A wonderful little production. <br /><br />The...          1       998   \n",
       "2  I thought this was a wonderful way to spend ti...          1       926   \n",
       "3  Basically there's a family where a little boy ...          0       748   \n",
       "4  Petter Mattei's \"Love in the Time of Money\" is...          1      1317   \n",
       "\n",
       "   Num_word  Num_sent  \n",
       "0       380        10  \n",
       "1       201         7  \n",
       "2       205         4  \n",
       "3       175         6  \n",
       "4       283         9  "
      ]
     },
     "execution_count": 18,
     "metadata": {},
     "output_type": "execute_result"
    }
   ],
   "source": [
    "data.head(5)"
   ]
  },
  {
   "cell_type": "code",
   "execution_count": 19,
   "id": "69aa5eae-8f3d-4d29-91bf-5fff14311e1d",
   "metadata": {},
   "outputs": [],
   "source": [
    "## Spliting The Data Into Train And Split \n",
    "from sklearn.model_selection import train_test_split\n",
    "train_data, test_data = train_test_split(data, test_size=0.2, random_state=42 , shuffle=True)"
   ]
  },
  {
   "cell_type": "code",
   "execution_count": 20,
   "id": "870560a2-d716-4e6d-811f-9e4591c61c91",
   "metadata": {},
   "outputs": [
    {
     "name": "stdout",
     "output_type": "stream",
     "text": [
      "(39665, 5)\n",
      "(9917, 5)\n"
     ]
    }
   ],
   "source": [
    "print(train_data.shape)\n",
    "print(test_data.shape)"
   ]
  },
  {
   "cell_type": "markdown",
   "id": "b0a81e23-dcf1-412c-905a-2b145032c612",
   "metadata": {},
   "source": [
    "### Tokeniazation"
   ]
  },
  {
   "cell_type": "code",
   "execution_count": 21,
   "id": "240d1de5-4b77-4bd8-ac35-4dcbbcc4c5b8",
   "metadata": {},
   "outputs": [],
   "source": [
    "## create object for tokenizer \n",
    "vocab_size = 5000\n",
    "tokenizer = Tokenizer(num_words=5000) ## most commen words \n",
    "tokenizer.fit_on_texts(train_data['review'])"
   ]
  },
  {
   "cell_type": "code",
   "execution_count": 22,
   "id": "84f6ed40-2b40-48a0-8dea-71931c40cf0e",
   "metadata": {},
   "outputs": [],
   "source": [
    "## using pad sequence to make all same length \n",
    "max_len = 800\n",
    "X_train = pad_sequences(tokenizer.texts_to_sequences(train_data['review']) , maxlen=max_len)"
   ]
  },
  {
   "cell_type": "code",
   "execution_count": 23,
   "id": "7779c285-538e-49bd-8df7-0a7a86bfb774",
   "metadata": {},
   "outputs": [
    {
     "name": "stdout",
     "output_type": "stream",
     "text": [
      "2911\n"
     ]
    }
   ],
   "source": [
    "## maxlength sentence \n",
    "max_length = max(data['review'].apply(lambda x:np.max(len(nltk.word_tokenize(x)))))\n",
    "print(max_length)"
   ]
  },
  {
   "cell_type": "code",
   "execution_count": 24,
   "id": "2e0a0dff-a970-467b-b047-76976a8dd2cb",
   "metadata": {},
   "outputs": [
    {
     "name": "stdout",
     "output_type": "stream",
     "text": [
      "[[   0    0    0 ...  352  202  134]\n",
      " [   0    0    0 ... 4247    2 2721]\n",
      " [   0    0    0 ...  414   25  195]\n",
      " ...\n",
      " [   0    0    0 ...    3  454  156]\n",
      " [   0    0    0 ...  244  103  126]\n",
      " [   0    0    0 ...    4    1 2902]]\n"
     ]
    }
   ],
   "source": [
    "print(X_train)"
   ]
  },
  {
   "cell_type": "code",
   "execution_count": 25,
   "id": "ed72294d-12c0-4fe6-9fd4-02b057eb629a",
   "metadata": {},
   "outputs": [],
   "source": [
    "y_train = train_data[\"sentiment\"]\n",
    "y_test = test_data[\"sentiment\"]"
   ]
  },
  {
   "cell_type": "markdown",
   "id": "93be9e85-75d0-4582-a328-538ca417b522",
   "metadata": {},
   "source": [
    "## 5.Build The Model "
   ]
  },
  {
   "cell_type": "code",
   "execution_count": 26,
   "id": "2e7d9da9-55c6-4da0-9a7a-32fe34007289",
   "metadata": {},
   "outputs": [
    {
     "name": "stdout",
     "output_type": "stream",
     "text": [
      "WARNING:tensorflow:From C:\\Users\\Kimo Store\\anaconda3\\Lib\\site-packages\\keras\\src\\backend.py:873: The name tf.get_default_graph is deprecated. Please use tf.compat.v1.get_default_graph instead.\n",
      "\n",
      "WARNING:tensorflow:From C:\\Users\\Kimo Store\\anaconda3\\Lib\\site-packages\\keras\\src\\optimizers\\__init__.py:309: The name tf.train.Optimizer is deprecated. Please use tf.compat.v1.train.Optimizer instead.\n",
      "\n",
      "Epoch 1/5\n",
      "WARNING:tensorflow:From C:\\Users\\Kimo Store\\anaconda3\\Lib\\site-packages\\keras\\src\\utils\\tf_utils.py:492: The name tf.ragged.RaggedTensorValue is deprecated. Please use tf.compat.v1.ragged.RaggedTensorValue instead.\n",
      "\n",
      "WARNING:tensorflow:From C:\\Users\\Kimo Store\\anaconda3\\Lib\\site-packages\\keras\\src\\engine\\base_layer_utils.py:384: The name tf.executing_eagerly_outside_functions is deprecated. Please use tf.compat.v1.executing_eagerly_outside_functions instead.\n",
      "\n",
      "496/496 [==============================] - ETA: 0s - loss: 0.4258 - accuracy: 0.8077WARNING:tensorflow:AutoGraph could not transform <function Model.make_test_function.<locals>.test_function at 0x00000200807DDC60> and will run it as-is.\n",
      "Cause: Unable to locate the source code of <function Model.make_test_function.<locals>.test_function at 0x00000200807DDC60>. Note that functions defined in certain environments, like the interactive Python shell, do not expose their source code. If that is the case, you should define them in a .py source file. If you are certain the code is graph-compatible, wrap the call using @tf.autograph.experimental.do_not_convert. Original error: could not get source code\n",
      "To silence this warning, decorate the function with @tf.autograph.experimental.do_not_convert\n",
      "WARNING: AutoGraph could not transform <function Model.make_test_function.<locals>.test_function at 0x00000200807DDC60> and will run it as-is.\n",
      "Cause: Unable to locate the source code of <function Model.make_test_function.<locals>.test_function at 0x00000200807DDC60>. Note that functions defined in certain environments, like the interactive Python shell, do not expose their source code. If that is the case, you should define them in a .py source file. If you are certain the code is graph-compatible, wrap the call using @tf.autograph.experimental.do_not_convert. Original error: could not get source code\n",
      "To silence this warning, decorate the function with @tf.autograph.experimental.do_not_convert\n",
      "496/496 [==============================] - 4090s 8s/step - loss: 0.4258 - accuracy: 0.8077 - val_loss: 0.3558 - val_accuracy: 0.8592\n",
      "Epoch 2/5\n",
      "496/496 [==============================] - 4898s 10s/step - loss: 0.2808 - accuracy: 0.8857 - val_loss: 0.3020 - val_accuracy: 0.8693\n",
      "Epoch 3/5\n",
      "496/496 [==============================] - 5016s 10s/step - loss: 0.2299 - accuracy: 0.9095 - val_loss: 0.2994 - val_accuracy: 0.8785\n",
      "Epoch 4/5\n",
      "496/496 [==============================] - 4911s 10s/step - loss: 0.1865 - accuracy: 0.9281 - val_loss: 0.2898 - val_accuracy: 0.8876\n",
      "Epoch 5/5\n",
      "496/496 [==============================] - 5001s 10s/step - loss: 0.1659 - accuracy: 0.9369 - val_loss: 0.3230 - val_accuracy: 0.8829\n"
     ]
    },
    {
     "data": {
      "text/plain": [
       "<keras.src.callbacks.History at 0x200ff4f8f10>"
      ]
     },
     "execution_count": 26,
     "metadata": {},
     "output_type": "execute_result"
    }
   ],
   "source": [
    "features_vector = 128 \n",
    "model = Sequential()\n",
    "model.add(Embedding(input_dim=vocab_size ,output_dim= features_vector , input_length=max_len))\n",
    "model.add(LSTM(128,dropout = 0.2  , recurrent_dropout = 0.2))\n",
    "model.add(Dense(1 , activation='sigmoid'))\n",
    "\n",
    "## Compile The Model To Update Weights And optimize The Accurcy\n",
    "model.compile(optimizer='Adam', loss='binary_crossentropy', metrics=['accuracy'])\n",
    "\n",
    "## early stopping to not overfitting\n",
    "early_stop = keras.callbacks.EarlyStopping(monitor='val_loss', patience=3)\n",
    "\n",
    "## train the model\n",
    "model.fit(X_train , y_train ,epochs=5 , batch_size=64 , validation_split=0.2 , callbacks=[early_stop] )"
   ]
  },
  {
   "cell_type": "markdown",
   "id": "3fcaeacd-44bc-4540-8e2a-b41a5cadd47b",
   "metadata": {},
   "source": [
    "### Test Data"
   ]
  },
  {
   "cell_type": "code",
   "execution_count": 27,
   "id": "c1bc263a-8900-44a8-81b6-606298b97ae5",
   "metadata": {},
   "outputs": [],
   "source": [
    "## make all sentences same length \n",
    "X_test = pad_sequences(tokenizer.texts_to_sequences(test_data['review']) , maxlen=max_len)"
   ]
  },
  {
   "cell_type": "markdown",
   "id": "4d8b9e34-7241-4ba8-b9c8-487b5d69164f",
   "metadata": {},
   "source": [
    "## Model Evaluation"
   ]
  },
  {
   "cell_type": "code",
   "execution_count": 28,
   "id": "682f12ee-12c7-4031-8895-e1d45a6a09cb",
   "metadata": {},
   "outputs": [
    {
     "name": "stdout",
     "output_type": "stream",
     "text": [
      "310/310 [==============================] - 90s 289ms/step - loss: 0.3212 - accuracy: 0.8837\n",
      "Accuracy is 0.8837350010871887\n"
     ]
    }
   ],
   "source": [
    "loss , accuracy = model.evaluate(X_test , y_test)\n",
    "print(f\"Accuracy is {accuracy}\")"
   ]
  },
  {
   "cell_type": "code",
   "execution_count": 29,
   "id": "503cfdd9-7083-43e3-a0f2-b1a5a97a7be7",
   "metadata": {},
   "outputs": [
    {
     "name": "stdout",
     "output_type": "stream",
     "text": [
      "WARNING:tensorflow:AutoGraph could not transform <function Model.make_predict_function.<locals>.predict_function at 0x0000020080D6E660> and will run it as-is.\n",
      "Cause: Unable to locate the source code of <function Model.make_predict_function.<locals>.predict_function at 0x0000020080D6E660>. Note that functions defined in certain environments, like the interactive Python shell, do not expose their source code. If that is the case, you should define them in a .py source file. If you are certain the code is graph-compatible, wrap the call using @tf.autograph.experimental.do_not_convert. Original error: could not get source code\n",
      "To silence this warning, decorate the function with @tf.autograph.experimental.do_not_convert\n",
      "WARNING: AutoGraph could not transform <function Model.make_predict_function.<locals>.predict_function at 0x0000020080D6E660> and will run it as-is.\n",
      "Cause: Unable to locate the source code of <function Model.make_predict_function.<locals>.predict_function at 0x0000020080D6E660>. Note that functions defined in certain environments, like the interactive Python shell, do not expose their source code. If that is the case, you should define them in a .py source file. If you are certain the code is graph-compatible, wrap the call using @tf.autograph.experimental.do_not_convert. Original error: could not get source code\n",
      "To silence this warning, decorate the function with @tf.autograph.experimental.do_not_convert\n",
      "310/310 [==============================] - 87s 274ms/step\n"
     ]
    }
   ],
   "source": [
    "## make prediction \n",
    "pred = model.predict(X_test)\n",
    "pred = [1 if i > 0.5 else 0 for i in pred]"
   ]
  },
  {
   "cell_type": "code",
   "execution_count": 30,
   "id": "ccfda3c6-90f2-4cca-b5e2-b93c05ef3aa6",
   "metadata": {},
   "outputs": [
    {
     "name": "stdout",
     "output_type": "stream",
     "text": [
      "310/310 [==============================] - 63s 202ms/step - loss: 0.3212 - accuracy: 0.8837\n",
      "Accuracy Score is : 0.8837350010871887\n",
      "------------------------------------------------------------------------------\n",
      "Auc Score is : 0.8838248080987403\n",
      "------------------------------------------------------------------------------\n",
      "Confusion_Matrix Score is : \n",
      "[[4478  461]\n",
      " [ 692 4286]]\n",
      "------------------------------------------------------------------------------\n",
      "Classification_Report Score is :               precision    recall  f1-score   support\n",
      "\n",
      "           0       0.87      0.91      0.89      4939\n",
      "           1       0.90      0.86      0.88      4978\n",
      "\n",
      "    accuracy                           0.88      9917\n",
      "   macro avg       0.88      0.88      0.88      9917\n",
      "weighted avg       0.88      0.88      0.88      9917\n",
      "\n"
     ]
    }
   ],
   "source": [
    "from sklearn.metrics import classification_report , confusion_matrix , roc_auc_score\n",
    "\n",
    "\n",
    "loss , accuracy = model.evaluate(X_test , y_test)\n",
    "\n",
    "print(f\"Accuracy Score is : {accuracy}\")\n",
    "print(\"------------------------------------------------------------------------------\")\n",
    "\n",
    "print(f\"Auc Score is : {roc_auc_score(y_test , pred)}\")\n",
    "print(\"------------------------------------------------------------------------------\")\n",
    "\n",
    "print(f\"Confusion_Matrix Score is : \\n{confusion_matrix(y_test , pred)}\")\n",
    "print(\"------------------------------------------------------------------------------\")\n",
    "\n",
    "print(f\"Classification_Report Score is : {classification_report(y_test , pred)}\")\n"
   ]
  },
  {
   "cell_type": "markdown",
   "id": "ae15eefe-a2cc-4865-aa57-72cc07de2f1b",
   "metadata": {},
   "source": [
    "## Prediction System "
   ]
  },
  {
   "cell_type": "code",
   "execution_count": 31,
   "id": "1c78bbeb-c4b4-4776-a731-6ba8adb518b2",
   "metadata": {},
   "outputs": [],
   "source": [
    "def prediction(text):\n",
    "    # 1- tokeniazation\n",
    "    feature = tokenizer.texts_to_sequences([text])\n",
    "\n",
    "    # 2- padding \n",
    "    padding_features = pad_sequences(feature , maxlen=max_len)\n",
    "\n",
    "    # 3- make prediction \n",
    "    prediction = model.predict(padding_features)\n",
    "\n",
    "    # 4- output \n",
    "    sentiment = 'Positive' if prediction[0][0] > 0.5 else 'Negative'\n",
    "    \n",
    "    return  sentiment"
   ]
  },
  {
   "cell_type": "code",
   "execution_count": 32,
   "id": "c7643afc-1390-4d01-aee2-89f837386de3",
   "metadata": {},
   "outputs": [
    {
     "name": "stdout",
     "output_type": "stream",
     "text": [
      "1/1 [==============================] - 0s 183ms/step\n",
      "The sentiment of the review is: Positive\n"
     ]
    }
   ],
   "source": [
    "# example usage unseen data (positive)\n",
    "new_review = \"The movie is an interesting commentary on the internet being a distraction of stupidity.It leads people to their deaths, but people are addicted to watching others demise that it creates a sort of circle of dysfunction...Ultimately, I was engrossed as a sort of VHS style found footage genre offering, but it did have a few interesting things to say on the entitled society we live in today, of easy gratification, replacement of impersonal and fear based living behind a screen for the beauty of the natural world.It's available on demand, which is apropos to the plot point of the story.\"\n",
    "sentiment = prediction(new_review)\n",
    "print(f\"The sentiment of the review is: {sentiment}\")"
   ]
  },
  {
   "cell_type": "code",
   "execution_count": 33,
   "id": "a866af35-1b1c-4c5c-b35d-108d1c26f045",
   "metadata": {},
   "outputs": [
    {
     "name": "stdout",
     "output_type": "stream",
     "text": [
      "1/1 [==============================] - 0s 194ms/step\n",
      "The sentiment of the review is: Negative\n"
     ]
    }
   ],
   "source": [
    "# example usage unseen data (Negative)\n",
    "new_review =\"It's the worst film in the world. DICTATOR Erdogan's disgusting movie. Turkey is a liar . The film consists of lies and God save Turkey from this disgusting man. Very bad film.He's enemy for art and world culture this movie is big lying ERDOGAN is a Common enemy of the world. **peace at home peace at world.**\"\n",
    "sentiment = prediction(new_review)\n",
    "print(f\"The sentiment of the review is: {sentiment}\")"
   ]
  },
  {
   "cell_type": "markdown",
   "id": "41d4f241-a207-47a2-b439-bb71e16f1f8d",
   "metadata": {},
   "source": [
    "## Save The Model"
   ]
  },
  {
   "cell_type": "code",
   "execution_count": 34,
   "id": "730df7c5-3fad-4d46-ad28-effda66115f7",
   "metadata": {},
   "outputs": [],
   "source": [
    "model.save('model.h5')"
   ]
  }
 ],
 "metadata": {
  "kernelspec": {
   "display_name": "Python 3 (ipykernel)",
   "language": "python",
   "name": "python3"
  },
  "language_info": {
   "codemirror_mode": {
    "name": "ipython",
    "version": 3
   },
   "file_extension": ".py",
   "mimetype": "text/x-python",
   "name": "python",
   "nbconvert_exporter": "python",
   "pygments_lexer": "ipython3",
   "version": "3.11.5"
  }
 },
 "nbformat": 4,
 "nbformat_minor": 5
}
